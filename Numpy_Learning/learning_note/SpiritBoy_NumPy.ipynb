{
 "cells": [
  {
   "cell_type": "markdown",
   "metadata": {},
   "source": [
    "# NumPy基础\n",
    "    不提供建模和科学函数\n",
    "    数据连续存储\n",
    "    算法库用C编写"
   ]
  },
  {
   "cell_type": "code",
   "execution_count": 1,
   "metadata": {},
   "outputs": [],
   "source": [
    "import numpy as np"
   ]
  },
  {
   "cell_type": "code",
   "execution_count": null,
   "metadata": {},
   "outputs": [],
   "source": []
  },
  {
   "cell_type": "markdown",
   "metadata": {},
   "source": [
    "## 1 ndarray 多维数组对象\n",
    "    同类型数据容器\n",
    "    shape属性 每一维度的数量\n",
    "    dtype属性 数组的数据类型"
   ]
  },
  {
   "cell_type": "markdown",
   "metadata": {},
   "source": [
    "### 创建数组ndarray\n",
    "    array和asarray都可以将结构数据转化为ndarray，但是主要区别就是当数据源是ndarray时，array仍然会copy出一个副本，占用新的内存，但asarray不会。\n",
    "\n",
    "    np.array([[1,2,3], [4,5,6]])\n",
    "    np.asarray(_1nr_)\n",
    "    _1nr.shape\n",
    "    _1nr.dtype\n",
    "    _1nr.reshape(3,2)\n",
    "    np.zeros(10)\n",
    "    np.ones(10)\n",
    "    np.empty((10,2)\n",
    "    np.arange(1,100,2)\n",
    "    np.random.randn(4,4)"
   ]
  },
  {
   "cell_type": "code",
   "execution_count": 8,
   "metadata": {},
   "outputs": [
    {
     "name": "stdout",
     "output_type": "stream",
     "text": [
      "2323952142176 2323952142176\n",
      "(2, 3)\n",
      "2\n",
      "3\n",
      "int32\n",
      "[[1 2 3]\n",
      " [4 5 6]]\n",
      "[[1 2]\n",
      " [3 4]\n",
      " [5 6]]\n"
     ]
    }
   ],
   "source": [
    "#生成ndarray\n",
    "\n",
    "_1nr_ = np.array([[1,2,3], [4,5,6]])#任意序列类型\n",
    "\n",
    "_1nr = np.asarray(_1nr_)#任意序列类型，包括ndarray\n",
    "print(id(_1nr_), id(_1nr))\n",
    "\n",
    "print(_1nr.shape)\n",
    "print(_1nr.shape[0])\n",
    "print(_1nr.shape[1])\n",
    "\n",
    "print(_1nr.dtype)\n",
    "\n",
    "print(_1nr)\n",
    "\n",
    "print(_1nr.reshape(3,2))#重组形状"
   ]
  },
  {
   "cell_type": "code",
   "execution_count": 9,
   "metadata": {},
   "outputs": [
    {
     "name": "stdout",
     "output_type": "stream",
     "text": [
      "[0. 0. 0. 0. 0. 0. 0. 0. 0. 0.]\n"
     ]
    }
   ],
   "source": [
    "print(np.zeros(10))#全初始化为0数组"
   ]
  },
  {
   "cell_type": "code",
   "execution_count": 10,
   "metadata": {},
   "outputs": [
    {
     "name": "stdout",
     "output_type": "stream",
     "text": [
      "[1. 1. 1. 1. 1. 1. 1. 1. 1. 1.]\n"
     ]
    }
   ],
   "source": [
    "print(np.ones(10))#全初始化为1的数组"
   ]
  },
  {
   "cell_type": "code",
   "execution_count": 11,
   "metadata": {},
   "outputs": [
    {
     "name": "stdout",
     "output_type": "stream",
     "text": [
      "[[6.23042070e-307 4.67296746e-307]\n",
      " [1.69121096e-306 1.33511561e-306]\n",
      " [1.33508845e-306 1.33511969e-306]\n",
      " [6.23037996e-307 6.23053954e-307]\n",
      " [9.34609790e-307 8.45593934e-307]\n",
      " [9.34600963e-307 3.56036603e-307]\n",
      " [1.37961641e-306 1.37961302e-306]\n",
      " [1.11259940e-306 1.60219035e-306]\n",
      " [1.11261570e-306 1.06811354e-306]\n",
      " [8.34448533e-308 2.22507386e-306]]\n"
     ]
    }
   ],
   "source": [
    "print(np.empty((10,2)))#未初始化的数组"
   ]
  },
  {
   "cell_type": "code",
   "execution_count": 12,
   "metadata": {},
   "outputs": [
    {
     "name": "stdout",
     "output_type": "stream",
     "text": [
      "[ 1  3  5  7  9 11 13 15 17 19 21 23 25 27 29 31 33 35 37 39 41 43 45 47\n",
      " 49 51 53 55 57 59 61 63 65 67 69 71 73 75 77 79 81 83 85 87 89 91 93 95\n",
      " 97 99]\n"
     ]
    }
   ],
   "source": [
    "print(np.arange(1,100,2))#初始化为有序序列的数组"
   ]
  },
  {
   "cell_type": "code",
   "execution_count": null,
   "metadata": {},
   "outputs": [],
   "source": []
  },
  {
   "cell_type": "markdown",
   "metadata": {},
   "source": [
    "### 转换数据类型\n",
    "dtype是与其他数据系统交互的原因\n",
    "    \n",
    "    np.array([\"1\", \"2\", \"3\"], dtype = np.string_)\n",
    "    _1nr2.astype(np.float64)"
   ]
  },
  {
   "cell_type": "code",
   "execution_count": 14,
   "metadata": {
    "scrolled": true
   },
   "outputs": [
    {
     "name": "stdout",
     "output_type": "stream",
     "text": [
      "int32\n",
      "float64\n"
     ]
    }
   ],
   "source": [
    "#\n",
    "_1nr2 = np.asarray([1,2])\n",
    "print(_1nr2.dtype)\n",
    "_1nr3=_1nr2.astype(np.float64)\n",
    "print(_1nr3.dtype)"
   ]
  },
  {
   "cell_type": "code",
   "execution_count": 15,
   "metadata": {},
   "outputs": [
    {
     "name": "stdout",
     "output_type": "stream",
     "text": [
      "[b'1' b'2' b'3'] |S1\n",
      "[1. 2. 3.] float64\n"
     ]
    }
   ],
   "source": [
    "#字符型 ndarray\n",
    "_1nr_str = np.array([\"1\", \"2\", \"3\"], dtype = np.string_)\n",
    "print(_1nr_str, _1nr_str.dtype)\n",
    "#字符型数组 数据类型转换，无法转换则会抛出错误\n",
    "_1nr_str_num = _1nr_str.astype(np.float64)\n",
    "print(_1nr_str_num, _1nr_str_num.dtype)"
   ]
  },
  {
   "cell_type": "code",
   "execution_count": null,
   "metadata": {},
   "outputs": [],
   "source": []
  },
  {
   "cell_type": "markdown",
   "metadata": {},
   "source": [
    "# 数组算数\n",
    "# 向量化，批量操作，无需用for\n",
    "# 逐个元素操作\n",
    "# +, -, *, /, **\n",
    "# >, <, ==\n",
    "    相同形状数组之间 元素一一对应计算\n",
    "    不同形状的数组间， 利用广播特性\n",
    "    与标量的算数计算"
   ]
  },
  {
   "cell_type": "markdown",
   "metadata": {},
   "source": [
    "## 数组索引。\n",
    "    数组的切片是原数组的视图，不是复制，视图的修改将会反映到原数组上，可以用.copy()复制数组或切片\n",
    "    切片可以被赋值\n",
    "    多维数组的索引 nr[0][2][3] nr[0,2,3]\n",
    "    多维数组的切片 nr([0:1,2:3,4:5])\n",
    "    nr(1, :2)第一维第二个元素切片[:2]\n",
    "    数字表示索引，冒号表示切片，各维度间用逗号隔开"
   ]
  },
  {
   "cell_type": "markdown",
   "metadata": {},
   "source": [
    "### 布尔索引 nr[布尔值数组],取出尔数组中为true的位置的索引对应的值\n",
    "### 数组间的布尔运算得到布尔值数组 == ~ | & < > \n",
    "### 是数组的拷贝"
   ]
  },
  {
   "cell_type": "code",
   "execution_count": 22,
   "metadata": {},
   "outputs": [
    {
     "name": "stdout",
     "output_type": "stream",
     "text": [
      "[[False  True]\n",
      " [ True False]]\n",
      "[7 8]\n",
      "[[ True False]\n",
      " [False  True]]\n",
      "[6 9]\n"
     ]
    }
   ],
   "source": [
    "\n",
    "_1nr1 = np.array([[1,2], [2,3]])\n",
    "_1nr2 = np.array([[6,7], [8,9]])\n",
    "\n",
    "print(_1nr1 == 2)\n",
    "print(_1nr2[_1nr1 == 2])\n",
    "\n",
    "print(~(_1nr1 == 2))\n",
    "print(_1nr2[~(_1nr1 == 2)])#~取反"
   ]
  },
  {
   "cell_type": "code",
   "execution_count": null,
   "metadata": {},
   "outputs": [],
   "source": []
  },
  {
   "cell_type": "code",
   "execution_count": 118,
   "metadata": {},
   "outputs": [],
   "source": [
    "# 神奇索引\n",
    "# int类型\n",
    "# 拷贝"
   ]
  },
  {
   "cell_type": "markdown",
   "metadata": {},
   "source": [
    "## 数组的转置和换轴\n",
    "    .T\n",
    "    .transpose(())"
   ]
  },
  {
   "cell_type": "code",
   "execution_count": 8,
   "metadata": {},
   "outputs": [
    {
     "name": "stdout",
     "output_type": "stream",
     "text": [
      "[[[ 0  1  2]\n",
      "  [ 3  4  5]\n",
      "  [ 6  7  8]]\n",
      "\n",
      " [[ 9 10 11]\n",
      "  [12 13 14]\n",
      "  [15 16 17]]\n",
      "\n",
      " [[18 19 20]\n",
      "  [21 22 23]\n",
      "  [24 25 26]]] (3, 3, 3) \n",
      "\n",
      "[[[ 0  9 18]\n",
      "  [ 3 12 21]\n",
      "  [ 6 15 24]]\n",
      "\n",
      " [[ 1 10 19]\n",
      "  [ 4 13 22]\n",
      "  [ 7 16 25]]\n",
      "\n",
      " [[ 2 11 20]\n",
      "  [ 5 14 23]\n",
      "  [ 8 17 26]]] (3, 3, 3) \n",
      "\n",
      "[[[ 0  9 18]\n",
      "  [ 3 12 21]\n",
      "  [ 6 15 24]]\n",
      "\n",
      " [[ 1 10 19]\n",
      "  [ 4 13 22]\n",
      "  [ 7 16 25]]\n",
      "\n",
      " [[ 2 11 20]\n",
      "  [ 5 14 23]\n",
      "  [ 8 17 26]]] \n",
      "\n",
      "[[[ 0  9 18]\n",
      "  [ 3 12 21]\n",
      "  [ 6 15 24]]\n",
      "\n",
      " [[ 1 10 19]\n",
      "  [ 4 13 22]\n",
      "  [ 7 16 25]]\n",
      "\n",
      " [[ 2 11 20]\n",
      "  [ 5 14 23]\n",
      "  [ 8 17 26]]] \n",
      "\n"
     ]
    }
   ],
   "source": [
    "\n",
    "_1nr3 = np.arange(27).reshape((3,3,3))\n",
    "print(_1nr3, _1nr3.shape, \"\\n\")\n",
    "print(_1nr3.T, _1nr3.T.shape, \"\\n\")\n",
    "print(np.transpose(_1nr3), \"\\n\")#T是换轴的一种特殊形式\n",
    "print(_1nr3.transpose(), \"\\n\")\n",
    "#print(_1nr3.transpose((轴编号的元组)), \"\\n\")"
   ]
  },
  {
   "cell_type": "code",
   "execution_count": 12,
   "metadata": {},
   "outputs": [
    {
     "name": "stdout",
     "output_type": "stream",
     "text": [
      "[[[ 0  1  2]\n",
      "  [ 3  4  5]\n",
      "  [ 6  7  8]]\n",
      "\n",
      " [[ 9 10 11]\n",
      "  [12 13 14]\n",
      "  [15 16 17]]\n",
      "\n",
      " [[18 19 20]\n",
      "  [21 22 23]\n",
      "  [24 25 26]]] \n",
      "\n",
      "\n",
      "[[[ 0  1  2]\n",
      "  [ 3  4  5]\n",
      "  [ 6  7  8]]\n",
      "\n",
      " [[ 9 10 11]\n",
      "  [12 13 14]\n",
      "  [15 16 17]]\n",
      "\n",
      " [[18 19 20]\n",
      "  [21 22 23]\n",
      "  [24 25 26]]] \n",
      "\n",
      "\n",
      "[[[ 0  9 18]\n",
      "  [ 3 12 21]\n",
      "  [ 6 15 24]]\n",
      "\n",
      " [[ 1 10 19]\n",
      "  [ 4 13 22]\n",
      "  [ 7 16 25]]\n",
      "\n",
      " [[ 2 11 20]\n",
      "  [ 5 14 23]\n",
      "  [ 8 17 26]]] \n",
      "\n",
      "\n"
     ]
    }
   ],
   "source": [
    "_1nr3 = np.arange(27).reshape((3,3,3))\n",
    "print(_1nr3, \"\\n\\n\")\n",
    "print(_1nr3.transpose((0,1,2)), \"\\n\\n\")\n",
    "print(_1nr3.transpose((2,1,0)), \"\\n\\n\")"
   ]
  },
  {
   "cell_type": "code",
   "execution_count": 4,
   "metadata": {},
   "outputs": [],
   "source": [
    "nr_ax = np.arange(24).reshape(2,3,4)"
   ]
  },
  {
   "cell_type": "code",
   "execution_count": 5,
   "metadata": {},
   "outputs": [
    {
     "data": {
      "text/plain": [
       "array([[[ 0,  1,  2,  3],\n",
       "        [ 4,  5,  6,  7],\n",
       "        [ 8,  9, 10, 11]],\n",
       "\n",
       "       [[12, 13, 14, 15],\n",
       "        [16, 17, 18, 19],\n",
       "        [20, 21, 22, 23]]])"
      ]
     },
     "execution_count": 5,
     "metadata": {},
     "output_type": "execute_result"
    }
   ],
   "source": [
    "nr_ax"
   ]
  },
  {
   "cell_type": "markdown",
   "metadata": {},
   "source": [
    "## 通用函数：简单函数的向量化封装 \n"
   ]
  },
  {
   "cell_type": "markdown",
   "metadata": {},
   "source": [
    "### 一元通用函数\n",
    "    np.sqrt([4,9])\n",
    "    np.exp([1,2,3])\n",
    "\n",
    "    "
   ]
  },
  {
   "cell_type": "code",
   "execution_count": 25,
   "metadata": {},
   "outputs": [
    {
     "data": {
      "text/plain": [
       "array([2., 3.])"
      ]
     },
     "execution_count": 25,
     "metadata": {},
     "output_type": "execute_result"
    }
   ],
   "source": [
    "np.sqrt([4,9])#平方根"
   ]
  },
  {
   "cell_type": "code",
   "execution_count": 26,
   "metadata": {},
   "outputs": [
    {
     "data": {
      "text/plain": [
       "array([ 2.71828183,  7.3890561 , 20.08553692])"
      ]
     },
     "execution_count": 26,
     "metadata": {},
     "output_type": "execute_result"
    }
   ],
   "source": [
    "np.exp([1,2,3])"
   ]
  },
  {
   "cell_type": "markdown",
   "metadata": {},
   "source": [
    "### 二元通用函数\n",
    "    np.maximum([1,2,3,4], [4,3,2,1])\n",
    "    np.modf([1.2, 3.4])#小数和整数分离\n",
    "    np.square(nr_in, nr_out)"
   ]
  },
  {
   "cell_type": "code",
   "execution_count": 28,
   "metadata": {},
   "outputs": [
    {
     "data": {
      "text/plain": [
       "array([4, 3, 3, 4])"
      ]
     },
     "execution_count": 28,
     "metadata": {},
     "output_type": "execute_result"
    }
   ],
   "source": [
    "np.maximum([1,2,3,4], [4,3,2,1])"
   ]
  },
  {
   "cell_type": "code",
   "execution_count": 66,
   "metadata": {},
   "outputs": [
    {
     "data": {
      "text/plain": [
       "(array([0.2, 0.4]), array([1., 3.]))"
      ]
     },
     "execution_count": 66,
     "metadata": {},
     "output_type": "execute_result"
    }
   ],
   "source": [
    "np.modf([1.2, 3.4])#小数和整数分离"
   ]
  },
  {
   "cell_type": "code",
   "execution_count": null,
   "metadata": {},
   "outputs": [],
   "source": [
    "# 接受一个可选参数out       "
   ]
  },
  {
   "cell_type": "code",
   "execution_count": 65,
   "metadata": {},
   "outputs": [
    {
     "name": "stdout",
     "output_type": "stream",
     "text": [
      "[[0. 0.]\n",
      " [0. 0.]]\n",
      "[[2 2]\n",
      " [3 3]]\n",
      "\n",
      "\n",
      "[[4. 4.]\n",
      " [9. 9.]]\n",
      "[[2 2]\n",
      " [3 3]]\n"
     ]
    }
   ],
   "source": [
    "nr_out = np.zeros((2,2))\n",
    "nr_in = np.array([[2,2],[3,3]])\n",
    "print(nr_out)\n",
    "print(nr_in)\n",
    "print(\"\\n\")\n",
    "np.square(nr_in, nr_out)\n",
    "print(nr_out)\n",
    "print(nr_in)"
   ]
  },
  {
   "cell_type": "code",
   "execution_count": 67,
   "metadata": {},
   "outputs": [],
   "source": [
    "# 面向数组编程， 无需大量循环"
   ]
  },
  {
   "cell_type": "code",
   "execution_count": 28,
   "metadata": {},
   "outputs": [
    {
     "name": "stdout",
     "output_type": "stream",
     "text": [
      "[[0.3 0.2 0.3]\n",
      " [0.3 0.2 0.3]\n",
      " [0.3 0.2 0.3]]\n",
      "[[6 6 6]\n",
      " [5 5 5]\n",
      " [6 6 6]]\n"
     ]
    }
   ],
   "source": [
    "nr_x = np.array([0.3,0.2,0.3])\n",
    "nr_y = np.array([6,5,6])\n",
    "nr_X, nr_Y = np.meshgrid(nr_x, nr_y)\n",
    "print(nr_X)\n",
    "print(nr_Y)\n",
    "Z = np.sqrt(nr_X ** 2 + nr_Y ** 2)"
   ]
  },
  {
   "cell_type": "code",
   "execution_count": 29,
   "metadata": {},
   "outputs": [
    {
     "data": {
      "image/png": "[encoded data removed]",
      "text/plain": [
       "<Figure size 432x288 with 2 Axes>"
      ]
     },
     "metadata": {
      "needs_background": "light"
     },
     "output_type": "display_data"
    }
   ],
   "source": [
    "import matplotlib.pyplot as plt\n",
    "plt.imshow(Z, cmap = plt.cm.hot)\n",
    "plt.colorbar()\n",
    "plt.show()"
   ]
  },
  {
   "cell_type": "code",
   "execution_count": null,
   "metadata": {},
   "outputs": [],
   "source": []
  },
  {
   "cell_type": "code",
   "execution_count": 32,
   "metadata": {},
   "outputs": [
    {
     "data": {
      "text/plain": [
       "array([[2, 1, 2, 2],\n",
       "       [2, 2, 2, 1],\n",
       "       [1, 2, 2, 2],\n",
       "       [2, 2, 2, 2]])"
      ]
     },
     "execution_count": 32,
     "metadata": {},
     "output_type": "execute_result"
    }
   ],
   "source": [
    "# np.where(array, x, y)# x if array else y\n",
    "nr_where = np.random.randn(4,4)\n",
    "np.where(nr_where > 0, 1, 2)"
   ]
  },
  {
   "cell_type": "code",
   "execution_count": null,
   "metadata": {},
   "outputs": [],
   "source": []
  },
  {
   "cell_type": "markdown",
   "metadata": {},
   "source": [
    "### 数学和统计函数\n",
    "     np.sum() np.mean() np.std(), 可选参数 axis = \n",
    "     布尔数组中 .any()检查是否有true all()检查是否全为true\n",
    "     np.sort(axis)\n",
    "     np.unique()去重后排序"
   ]
  },
  {
   "cell_type": "markdown",
   "metadata": {},
   "source": [
    "##  矩阵计算\n",
    "    np.dot()\n",
    "    @"
   ]
  },
  {
   "cell_type": "code",
   "execution_count": 35,
   "metadata": {},
   "outputs": [
    {
     "name": "stdout",
     "output_type": "stream",
     "text": [
      "[[17 22 27]\n",
      " [22 29 36]\n",
      " [27 36 45]]\n",
      "[[17 22 27]\n",
      " [22 29 36]\n",
      " [27 36 45]]\n"
     ]
    }
   ],
   "source": [
    "# 矩阵内积 np.dot() @\n",
    "_2nr1 = np.array([[1,2,3], [4,5,6]])\n",
    "print(np.dot(_2nr1.T, _2nr1))\n",
    "\n",
    "_2nr1 = np.array([[1,2,3], [4,5,6]])\n",
    "print(_2nr1.T @ _2nr1)\n",
    "# 逐个元素的乘积 array*array\n"
   ]
  },
  {
   "cell_type": "code",
   "execution_count": 38,
   "metadata": {},
   "outputs": [],
   "source": [
    "# np.linalg 矩阵分解函数集"
   ]
  },
  {
   "cell_type": "code",
   "execution_count": null,
   "metadata": {},
   "outputs": [],
   "source": []
  },
  {
   "cell_type": "markdown",
   "metadata": {},
   "source": [
    "## 数据读写"
   ]
  },
  {
   "cell_type": "code",
   "execution_count": 39,
   "metadata": {},
   "outputs": [],
   "source": [
    "# np.save(file.npy, array)  np.load(file.npy) 未压缩格式\n",
    "# np.savez(file.npz, array)  np.load(file.npz)\n"
   ]
  },
  {
   "cell_type": "markdown",
   "metadata": {},
   "source": [
    "## 3 线性代数"
   ]
  },
  {
   "cell_type": "code",
   "execution_count": 40,
   "metadata": {},
   "outputs": [],
   "source": []
  },
  {
   "cell_type": "markdown",
   "metadata": {},
   "source": [
    "## 4 随机数生成"
   ]
  },
  {
   "cell_type": "markdown",
   "metadata": {},
   "source": [
    "### 初步"
   ]
  },
  {
   "cell_type": "code",
   "execution_count": 41,
   "metadata": {},
   "outputs": [
    {
     "data": {
      "text/plain": [
       "array([[-0.11559096,  1.47571238, -1.98087223],\n",
       "       [ 0.16230857, -0.10946349, -0.23230759]])"
      ]
     },
     "execution_count": 41,
     "metadata": {},
     "output_type": "execute_result"
    }
   ],
   "source": [
    "# np.random 模块\n",
    "_4nr = np.random.randn(2,3)\n",
    "_4nr"
   ]
  },
  {
   "cell_type": "code",
   "execution_count": null,
   "metadata": {},
   "outputs": [],
   "source": [
    "# np.random.normal(size = ()) 正太分布样本数组"
   ]
  },
  {
   "cell_type": "markdown",
   "metadata": {},
   "source": [
    "## 5 傅里叶变换"
   ]
  },
  {
   "cell_type": "code",
   "execution_count": null,
   "metadata": {},
   "outputs": [],
   "source": []
  },
  {
   "cell_type": "code",
   "execution_count": null,
   "metadata": {},
   "outputs": [],
   "source": []
  },
  {
   "cell_type": "markdown",
   "metadata": {},
   "source": [
    "## 6 C语言API"
   ]
  },
  {
   "cell_type": "code",
   "execution_count": null,
   "metadata": {},
   "outputs": [],
   "source": []
  },
  {
   "cell_type": "code",
   "execution_count": null,
   "metadata": {},
   "outputs": [],
   "source": []
  }
 ],
 "metadata": {
  "kernelspec": {
   "display_name": "Python 3",
   "language": "python",
   "name": "python3"
  },
  "language_info": {
   "codemirror_mode": {
    "name": "ipython",
    "version": 3
   },
   "file_extension": ".py",
   "mimetype": "text/x-python",
   "name": "python",
   "nbconvert_exporter": "python",
   "pygments_lexer": "ipython3",
   "version": "3.7.4"
  },
  "varInspector": {
   "cols": {
    "lenName": 16,
    "lenType": 16,
    "lenVar": 40
   },
   "kernels_config": {
    "python": {
     "delete_cmd_postfix": "",
     "delete_cmd_prefix": "del ",
     "library": "var_list.py",
     "varRefreshCmd": "print(var_dic_list())"
    },
    "r": {
     "delete_cmd_postfix": ") ",
     "delete_cmd_prefix": "rm(",
     "library": "var_list.r",
     "varRefreshCmd": "cat(var_dic_list()) "
    }
   },
   "types_to_exclude": [
    "module",
    "function",
    "builtin_function_or_method",
    "instance",
    "_Feature"
   ],
   "window_display": false
  }
 },
 "nbformat": 4,
 "nbformat_minor": 4
}
